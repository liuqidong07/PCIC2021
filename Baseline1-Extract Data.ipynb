{
 "cells": [
  {
   "cell_type": "markdown",
   "source": [
    "# Baseline1: Extract deterministic data according to the problem description\n",
    "For more details, you can find the whole project from https://github.com/KID-22/PCIC2021-Baselines. Welcome to watch, star and fork! Note that some new baselines will update soon."
   ],
   "metadata": {}
  },
  {
   "cell_type": "markdown",
   "source": [
    "### Load Data"
   ],
   "metadata": {}
  },
  {
   "cell_type": "code",
   "execution_count": 3,
   "source": [
    "import numpy as np\n",
    "import pandas as pd\n",
    "import random\n",
    "from tqdm import tqdm"
   ],
   "outputs": [],
   "metadata": {}
  },
  {
   "cell_type": "code",
   "execution_count": 4,
   "source": [
    "bigtag = np.loadtxt('./data/train/bigtag.txt',dtype=int)\n",
    "bigtag"
   ],
   "outputs": [
    {
     "output_type": "execute_result",
     "data": {
      "text/plain": [
       "array([[  0,  26,  -1],\n",
       "       [  0, 100,  12],\n",
       "       [  0, 100,   2],\n",
       "       ...,\n",
       "       [999, 736,   4],\n",
       "       [999, 776,   4],\n",
       "       [999, 776,  14]])"
      ]
     },
     "metadata": {},
     "execution_count": 4
    }
   ],
   "metadata": {}
  },
  {
   "cell_type": "code",
   "execution_count": 5,
   "source": [
    "choicetag = np.loadtxt('./data/train/choicetag.txt',dtype=int)\n",
    "choicetag"
   ],
   "outputs": [
    {
     "output_type": "execute_result",
     "data": {
      "text/plain": [
       "array([[  4,  83,  45],\n",
       "       [  4, 125,   4],\n",
       "       [  4, 345,  12],\n",
       "       ...,\n",
       "       [998, 952,  43],\n",
       "       [998, 989,   4],\n",
       "       [998, 989,  35]])"
      ]
     },
     "metadata": {},
     "execution_count": 5
    }
   ],
   "metadata": {}
  },
  {
   "cell_type": "code",
   "execution_count": 6,
   "source": [
    "movie_data = np.loadtxt('./data/train/movie.txt',dtype=int)\n",
    "movie = []\n",
    "for i in range(movie_data.shape[0]):\n",
    "    tmp = movie_data[i,1:]\n",
    "    movie.append(tmp)\n",
    "movie[:5]"
   ],
   "outputs": [
    {
     "output_type": "execute_result",
     "data": {
      "text/plain": [
       "[array([0, 1, 2, 3, 4, 5, 6, 7]),\n",
       " array([ 8,  9,  0, 10, 11, 12,  7, 13]),\n",
       " array([14, 15,  4, 16, 17, 18, 19, 20]),\n",
       " array([ 2,  0,  4, 21,  3,  7, 22,  6]),\n",
       " array([23,  0, 24, 25, 21, 26, 27,  7])]"
      ]
     },
     "metadata": {},
     "execution_count": 6
    }
   ],
   "metadata": {}
  },
  {
   "cell_type": "code",
   "execution_count": 7,
   "source": [
    "tag_num = np.max(movie)\n",
    "tag_num"
   ],
   "outputs": [
    {
     "output_type": "execute_result",
     "data": {
      "text/plain": [
       "1719"
      ]
     },
     "metadata": {},
     "execution_count": 7
    }
   ],
   "metadata": {}
  },
  {
   "cell_type": "markdown",
   "source": [
    "### Extract data"
   ],
   "metadata": {}
  },
  {
   "cell_type": "code",
   "execution_count": 20,
   "source": [
    "mat = np.zeros((1000,tag_num+1))\n",
    "all_data_array = []\n",
    "bigtag_array = []\n",
    "choicetag_array = []"
   ],
   "outputs": [],
   "metadata": {}
  },
  {
   "cell_type": "code",
   "execution_count": 21,
   "source": [
    "count = 0\n",
    "# extract deterministic data from bigtag\n",
    "for i in tqdm(range(bigtag.shape[0])):\n",
    "    if bigtag[i][2] != -1:\n",
    "        mat[bigtag[i][0]][bigtag[i][2]] = 1\n",
    "        all_data_array.append([bigtag[i][0],bigtag[i][2],1])\n",
    "        bigtag_array.append([bigtag[i][0],bigtag[i][2],1])\n",
    "        count += 1\n",
    "    if bigtag[i][2] == -1:\n",
    "        for tag in movie[bigtag[i][1]]:\n",
    "            mat[bigtag[i][0]][tag] = -1\n",
    "            all_data_array.append([bigtag[i][0],tag,0])\n",
    "            bigtag_array.append([bigtag[i][0],tag,0])\n",
    "\n",
    "for i in tqdm(range(bigtag.shape[0])):\n",
    "    if bigtag[i][2] != -1:\n",
    "        for tag in movie[bigtag[i][1]]:\n",
    "            if mat[bigtag[i][0]][tag] == 0:\n",
    "                mat[bigtag[i][0]][tag] = -1\n",
    "                all_data_array.append([bigtag[i][0],tag,0])\n",
    "                bigtag_array.append([bigtag[i][0],tag,0])"
   ],
   "outputs": [
    {
     "output_type": "stream",
     "name": "stderr",
     "text": [
      "100%|██████████| 8612/8612 [00:00<00:00, 162796.76it/s]\n",
      "100%|██████████| 8612/8612 [00:00<00:00, 36743.30it/s]\n"
     ]
    }
   ],
   "metadata": {}
  },
  {
   "cell_type": "code",
   "execution_count": 22,
   "source": [
    "count, len(all_data_array)"
   ],
   "outputs": [
    {
     "output_type": "execute_result",
     "data": {
      "text/plain": [
       "(7206, 47054)"
      ]
     },
     "metadata": {},
     "execution_count": 22
    }
   ],
   "metadata": {}
  },
  {
   "cell_type": "code",
   "execution_count": 23,
   "source": [
    "18454 - (8612-7206)*8"
   ],
   "outputs": [
    {
     "output_type": "execute_result",
     "data": {
      "text/plain": [
       "7206"
      ]
     },
     "metadata": {},
     "execution_count": 23
    }
   ],
   "metadata": {}
  },
  {
   "cell_type": "code",
   "execution_count": 24,
   "source": [
    "# # extract deterministic data from choicetag\n",
    "for i in tqdm(range(choicetag.shape[0])):\n",
    "    if choicetag[i][2] != -1:\n",
    "        mat[choicetag[i][0]][choicetag[i][2]] = 1\n",
    "        all_data_array.append([choicetag[i][0],choicetag[i][2],1])\n",
    "        choicetag_array.append([choicetag[i][0],choicetag[i][2],1])\n",
    "    if choicetag[i][2] == -1:\n",
    "        for tag in movie[choicetag[i][1]]:\n",
    "            mat[choicetag[i][0]][tag] = -1\n",
    "            all_data_array.append([choicetag[i][0],tag,0])\n",
    "            choicetag_array.append([choicetag[i][0],tag,0])\n",
    "for i in tqdm(range(choicetag.shape[0])):\n",
    "    if choicetag[i][2] != -1:\n",
    "        for tag in movie[choicetag[i][1]]:\n",
    "            if mat[choicetag[i][0]][tag] == 0:\n",
    "                mat[choicetag[i][0]][tag] = -1\n",
    "                all_data_array.append([choicetag[i][0],tag,0])\n",
    "                choicetag_array.append([choicetag[i][0],tag,0])"
   ],
   "outputs": [
    {
     "output_type": "stream",
     "name": "stderr",
     "text": [
      "100%|██████████| 1540/1540 [00:00<00:00, 107695.09it/s]\n",
      "100%|██████████| 1540/1540 [00:00<00:00, 85850.61it/s]\n"
     ]
    }
   ],
   "metadata": {}
  },
  {
   "cell_type": "code",
   "execution_count": 25,
   "source": [
    "len(all_data_array)"
   ],
   "outputs": [
    {
     "output_type": "execute_result",
     "data": {
      "text/plain": [
       "53310"
      ]
     },
     "metadata": {},
     "execution_count": 25
    }
   ],
   "metadata": {}
  },
  {
   "cell_type": "code",
   "execution_count": 26,
   "source": [
    "# Unique\n",
    "all_data_array = np.array(all_data_array)\n",
    "print(all_data_array.shape[0])\n",
    "print(np.count_nonzero(all_data_array[:,2]))\n",
    "all_data_array = [tuple(row) for row in all_data_array]\n",
    "all_data_array = np.unique(all_data_array, axis=0)\n",
    "print(all_data_array.shape[0])\n",
    "print(np.count_nonzero(all_data_array[:,2]))"
   ],
   "outputs": [
    {
     "output_type": "stream",
     "name": "stdout",
     "text": [
      "53310\n",
      "8510\n",
      "47338\n",
      "4141\n"
     ]
    }
   ],
   "metadata": {}
  },
  {
   "cell_type": "code",
   "execution_count": 27,
   "source": [
    "# Unique\n",
    "bigtag_array = np.array(bigtag_array)\n",
    "print(bigtag_array.shape[0])\n",
    "print(np.count_nonzero(bigtag_array[:,2]))\n",
    "bigtag_array = [tuple(row) for row in bigtag_array]\n",
    "bigtag_array = np.unique(bigtag_array, axis=0)\n",
    "print(bigtag_array.shape[0])\n",
    "print(np.count_nonzero(bigtag_array[:,2]))"
   ],
   "outputs": [
    {
     "output_type": "stream",
     "name": "stdout",
     "text": [
      "47054\n",
      "7206\n",
      "42733\n",
      "3889\n"
     ]
    }
   ],
   "metadata": {}
  },
  {
   "cell_type": "code",
   "execution_count": 28,
   "source": [
    "# Unique\n",
    "choicetag_array = np.array(choicetag_array)\n",
    "print(choicetag_array.shape[0])\n",
    "print(np.count_nonzero(choicetag_array[:,2]))\n",
    "choicetag_array = [tuple(row) for row in choicetag_array]\n",
    "choicetag_array = np.unique(choicetag_array, axis=0)\n",
    "print(choicetag_array.shape[0])\n",
    "print(np.count_nonzero(choicetag_array[:,2]))"
   ],
   "outputs": [
    {
     "output_type": "stream",
     "name": "stdout",
     "text": [
      "6256\n",
      "1304\n",
      "5287\n",
      "558\n"
     ]
    }
   ],
   "metadata": {}
  },
  {
   "cell_type": "code",
   "execution_count": 31,
   "source": [
    "np.savetxt(\"./data/train/extract_bigtag.txt\",np.array(bigtag_array),fmt=\"%d\")\n",
    "np.savetxt(\"./data/train/extract_choicetag.txt\",np.array(choicetag_array),fmt=\"%d\")\n",
    "np.savetxt(\"./data/train/extract_alldata.txt\",np.array(all_data_array),fmt=\"%d\")"
   ],
   "outputs": [],
   "metadata": {}
  },
  {
   "cell_type": "markdown",
   "source": [
    "### Evaluate"
   ],
   "metadata": {}
  },
  {
   "cell_type": "code",
   "execution_count": 13,
   "source": [
    "from sklearn.metrics import roc_auc_score,accuracy_score\n",
    "valid = np.loadtxt('../valid/validation.txt',dtype=int)\n",
    "valid"
   ],
   "outputs": [
    {
     "output_type": "execute_result",
     "data": {
      "text/plain": [
       "array([[  0, 283,   0],\n",
       "       [  1,  85,   0],\n",
       "       [  1, 256,   1],\n",
       "       ...,\n",
       "       [999,  58,   0],\n",
       "       [999, 126,   0],\n",
       "       [999, 280,   0]])"
      ]
     },
     "metadata": {},
     "execution_count": 13
    }
   ],
   "metadata": {}
  },
  {
   "cell_type": "code",
   "execution_count": 14,
   "source": [
    "print(valid.shape[0])\n",
    "print(np.count_nonzero(valid[:,2]))"
   ],
   "outputs": [
    {
     "output_type": "stream",
     "name": "stdout",
     "text": [
      "2039\n",
      "779\n"
     ]
    }
   ],
   "metadata": {}
  },
  {
   "cell_type": "code",
   "execution_count": 15,
   "source": [
    "def evaluate(val):\n",
    "    val_true = val[:,2]\n",
    "    val_pred = np.array([])\n",
    "    for i in range(val.shape[0]):\n",
    "        res_tmp = mat[val[i][0]][val[i][1]]\n",
    "        if res_tmp == 1:\n",
    "            val_pred = np.append(val_pred,1)\n",
    "        elif res_tmp == -1:\n",
    "            val_pred = np.append(val_pred,0)\n",
    "        elif res_tmp == 0:\n",
    "            rand = random.randint(1,100)\n",
    "            if(rand>50):\n",
    "                val_pred = np.append(val_pred,1)\n",
    "            else:\n",
    "                val_pred = np.append(val_pred,0)\n",
    "    print(\"AUC: \",roc_auc_score(val_true, val_pred))"
   ],
   "outputs": [],
   "metadata": {}
  },
  {
   "cell_type": "code",
   "execution_count": 18,
   "source": [
    "evaluate(valid)"
   ],
   "outputs": [
    {
     "output_type": "stream",
     "name": "stdout",
     "text": [
      "AUC:  0.5747804470525908\n"
     ]
    }
   ],
   "metadata": {}
  },
  {
   "cell_type": "code",
   "execution_count": null,
   "source": [],
   "outputs": [],
   "metadata": {}
  },
  {
   "cell_type": "code",
   "execution_count": null,
   "source": [],
   "outputs": [],
   "metadata": {}
  },
  {
   "cell_type": "code",
   "execution_count": null,
   "source": [],
   "outputs": [],
   "metadata": {}
  }
 ],
 "metadata": {
  "interpreter": {
   "hash": "9c7f61cd7af8a91025d9808f8ebc6c0f0cafdddc4c9ffe8ba00f0e1268577df3"
  },
  "kernelspec": {
   "display_name": "Python 3.7.10 64-bit ('rec': conda)",
   "name": "python3"
  },
  "language_info": {
   "name": "python",
   "version": ""
  }
 },
 "nbformat": 4,
 "nbformat_minor": 2
}